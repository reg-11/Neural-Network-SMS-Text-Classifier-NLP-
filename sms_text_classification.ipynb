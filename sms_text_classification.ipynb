{
  "nbformat": 4,
  "nbformat_minor": 0,
  "metadata": {
    "colab": {
      "name": "Copy of Copy of fcc_sms_text_classification.ipynb",
      "private_outputs": true,
      "provenance": [],
      "collapsed_sections": []
    },
    "kernelspec": {
      "display_name": "Python 3",
      "name": "python3"
    },
    "accelerator": "GPU"
  },
  "cells": [
    {
      "cell_type": "markdown",
      "metadata": {
        "id": "Eg62Pmz3o83v"
      },
      "source": [
        "*Note: You are currently reading this using Google Colaboratory which is a cloud-hosted version of Jupyter Notebook. This is a document containing both text cells for documentation and runnable code cells. If you are unfamiliar with Jupyter Notebook, watch this 3-minute introduction before starting this challenge: https://www.youtube.com/watch?v=inN8seMm7UI*\n",
        "\n",
        "---\n",
        "\n",
        "In this challenge, you need to create a machine learning model that will classify SMS messages as either \"ham\" or \"spam\". A \"ham\" message is a normal message sent by a friend. A \"spam\" message is an advertisement or a message sent by a company.\n",
        "\n",
        "You should create a function called `predict_message` that takes a message string as an argument and returns a list. The first element in the list should be a number between zero and one that indicates the likeliness of \"ham\" (0) or \"spam\" (1). The second element in the list should be the word \"ham\" or \"spam\", depending on which is most likely.\n",
        "\n",
        "For this challenge, you will use the [SMS Spam Collection dataset](http://www.dt.fee.unicamp.br/~tiago/smsspamcollection/). The dataset has already been grouped into train data and test data.\n",
        "\n",
        "The first two cells import the libraries and data. The final cell tests your model and function. Add your code in between these cells.\n"
      ]
    },
    {
      "cell_type": "code",
      "metadata": {
        "id": "8RZOuS9LWQvv"
      },
      "source": [
        "# import libraries\n",
        "try:\n",
        "  # %tensorflow_version only exists in Colab.\n",
        "  !pip install tf-nightly\n",
        "except Exception:\n",
        "  pass\n",
        "import tensorflow as tf\n",
        "import pandas as pd\n",
        "from tensorflow import keras\n",
        "!pip install tensorflow-datasets\n",
        "import tensorflow_datasets as tfds\n",
        "import numpy as np\n",
        "import matplotlib.pyplot as plt\n",
        "\n",
        "print(tf.__version__)"
      ],
      "execution_count": null,
      "outputs": []
    },
    {
      "cell_type": "code",
      "metadata": {
        "id": "lMHwYXHXCar3"
      },
      "source": [
        "# get data files\n",
        "!wget https://cdn.freecodecamp.org/project-data/sms/train-data.tsv\n",
        "!wget https://cdn.freecodecamp.org/project-data/sms/valid-data.tsv\n",
        "\n",
        "train_file_path = \"train-data.tsv\"\n",
        "test_file_path = \"valid-data.tsv\""
      ],
      "execution_count": null,
      "outputs": []
    },
    {
      "cell_type": "code",
      "metadata": {
        "id": "g_h508FEClxO"
      },
      "source": [
        "#get data\n",
        "\n",
        "train_data = pd.read_csv(\"train-data.tsv\", sep='\\t')\n",
        "valid_data = pd.read_csv(\"valid-data.tsv\", sep='\\t')\n",
        "train_data"
      ],
      "execution_count": null,
      "outputs": []
    },
    {
      "cell_type": "code",
      "metadata": {
        "id": "FUW3Rh8GJWJt"
      },
      "source": [
        "train_data.describe()"
      ],
      "execution_count": null,
      "outputs": []
    },
    {
      "cell_type": "code",
      "metadata": {
        "id": "9kmM8Jv3rxTg"
      },
      "source": [
        "#dropping duplicate values\n",
        "\n",
        "train_data = train_data.drop_duplicates(subset =\"message\", keep = 'first')\n",
        "valid_data = valid_data.drop_duplicates(subset =\"message\", keep = 'first')"
      ],
      "execution_count": null,
      "outputs": []
    },
    {
      "cell_type": "code",
      "metadata": {
        "id": "qi0pC0lHs6X2"
      },
      "source": [
        "train_data.describe()"
      ],
      "execution_count": null,
      "outputs": []
    },
    {
      "cell_type": "code",
      "metadata": {
        "id": "eDNc3F5xKuag"
      },
      "source": [
        "# Get all the ham and spam messages\n",
        "ham_train = train_data[train_data.label =='ham']\n",
        "spam_train = train_data[train_data.label=='spam']\n",
        "\n",
        "ham_test = valid_data[valid_data.label =='ham']\n",
        "spam_test = valid_data[valid_data.label=='spam']"
      ],
      "execution_count": null,
      "outputs": []
    },
    {
      "cell_type": "code",
      "metadata": {
        "id": "qd6fnXOAkKV1"
      },
      "source": [
        "from sklearn.utils import resample\n",
        "\n",
        "#we have to handle imbalance data \n",
        "# Upsample minority class\n",
        "spam_train_df = resample(spam_train, \n",
        "                                 replace=True,     # sample with replacement\n",
        "                                 n_samples=len(ham_train),    # to match majority class\n",
        "                                 random_state=123) # reproducible results\n",
        "ham_train_df= ham_train\n",
        "\n",
        "\n",
        "\n",
        "spam_test_df = resample(spam_test, \n",
        "                                 replace=True,     # sample with replacement\n",
        "                                 n_samples=len(ham_test),    # to match majority class\n",
        "                                 random_state=123) # reproducible results\n",
        "ham_test_df= ham_test\n",
        "\n",
        "print(ham_test_df.shape, spam_test_df.shape)"
      ],
      "execution_count": null,
      "outputs": []
    },
    {
      "cell_type": "code",
      "metadata": {
        "id": "UFS3IqCQVbjd"
      },
      "source": [
        "#new df train\n",
        "new_train_df = ham_train_df.append(spam_train_df).reset_index(drop=True)\n",
        "\n",
        "# Get length column for each text\n",
        "new_train_df['text_length'] = new_train_df['message'].apply(len)\n",
        "\n",
        "#Calculate average length by label types\n",
        "labels = new_train_df.groupby('label').mean()\n",
        "labels"
      ],
      "execution_count": null,
      "outputs": []
    },
    {
      "cell_type": "code",
      "metadata": {
        "id": "SJwcGfWvWE2_"
      },
      "source": [
        "#new df train\n",
        "new_test_df = ham_test_df.append(spam_test_df).reset_index(drop=True)\n",
        "\n",
        "# Get length column for each text\n",
        "new_test_df['text_length'] = new_test_df['message'].apply(len)\n",
        "\n",
        "#Calculate average length by label types\n",
        "labels2 = new_test_df.groupby('label').mean()\n",
        "labels2"
      ],
      "execution_count": null,
      "outputs": []
    },
    {
      "cell_type": "code",
      "metadata": {
        "id": "mRi_LwIBTA_r"
      },
      "source": [
        "#get train_x, train_label\n",
        "# Map ham label as 0 and spam as 1\n",
        "\n",
        "new_train_df['msg_type']= new_train_df['label'].map({'ham': 0, 'spam': 1})\n",
        "train_label = new_train_df['msg_type'].values\n",
        "train_X=new_train_df['message'] \n",
        "train_label"
      ],
      "execution_count": null,
      "outputs": []
    },
    {
      "cell_type": "code",
      "metadata": {
        "id": "JkI4pIl2WxnV"
      },
      "source": [
        "#test_x, test_label\n",
        "\n",
        "new_test_df['msg_type']= new_test_df['label'].map({'ham': 0, 'spam': 1})\n",
        "test_label = new_test_df['msg_type'].values\n",
        "test_X= new_test_df['message'] \n",
        "test_label"
      ],
      "execution_count": null,
      "outputs": []
    },
    {
      "cell_type": "code",
      "metadata": {
        "id": "ddtH2cfqNtyf"
      },
      "source": [
        "# Defining pre-processing hyperparameters\n",
        "max_len = 60 \n",
        "trunc_type = \"post\" \n",
        "padding_type = \"post\" \n",
        "oov_tok = \"<OOV>\" \n",
        "vocab_size = 800"
      ],
      "execution_count": null,
      "outputs": []
    },
    {
      "cell_type": "code",
      "metadata": {
        "id": "EFyHYlsIN5d4"
      },
      "source": [
        "from tensorflow.keras.preprocessing.text import Tokenizer\n",
        "from tensorflow.keras.preprocessing.sequence import pad_sequences\n",
        "\n",
        "tokenizer = Tokenizer(num_words = vocab_size, char_level=False, oov_token = oov_tok)\n",
        "tokenizer.fit_on_texts(train_X)"
      ],
      "execution_count": null,
      "outputs": []
    },
    {
      "cell_type": "code",
      "metadata": {
        "id": "I2vLCkEL1waR"
      },
      "source": [
        "#Create pickle file using serialization\n",
        "import pickle\n",
        "\n",
        "pickle_out=open(\"tokenizer.pkl\",\"wb\")\n",
        "pickle.dump(tokenizer,pickle_out)\n",
        "pickle_out.close()"
      ],
      "execution_count": null,
      "outputs": []
    },
    {
      "cell_type": "code",
      "metadata": {
        "id": "MyDlLjHlOF2s"
      },
      "source": [
        "# Get the word_index \n",
        "word_index = tokenizer.word_index\n",
        "word_index"
      ],
      "execution_count": null,
      "outputs": []
    },
    {
      "cell_type": "code",
      "metadata": {
        "id": "Y99wvUFkOaNd"
      },
      "source": [
        "# Sequencing and padding on training and testing \n",
        "\n",
        "training_padded = pad_sequences (tokenizer.texts_to_sequences(train_X), maxlen = max_len, padding = padding_type, truncating = trunc_type )\n",
        "testing_padded = pad_sequences(tokenizer.texts_to_sequences(test_X), maxlen = max_len,padding = padding_type, truncating = trunc_type)"
      ],
      "execution_count": null,
      "outputs": []
    },
    {
      "cell_type": "code",
      "metadata": {
        "id": "YIvJvQKoX8Ji"
      },
      "source": [
        "# Shape of train tensor\n",
        "print('Shape of training tensor: ', training_padded.shape)\n",
        "print('Shape of testing tensor: ', testing_padded.shape)\n"
      ],
      "execution_count": null,
      "outputs": []
    },
    {
      "cell_type": "code",
      "metadata": {
        "id": "USV9G_FeOim4"
      },
      "source": [
        "print(training_padded[0])"
      ],
      "execution_count": null,
      "outputs": []
    },
    {
      "cell_type": "code",
      "metadata": {
        "id": "TtF3iRdOO2CF"
      },
      "source": [
        "vocab_size = 800 \n",
        "embeding_dim = 16\n",
        "drop_value = 0.2 # dropout\n"
      ],
      "execution_count": null,
      "outputs": []
    },
    {
      "cell_type": "code",
      "metadata": {
        "id": "HlHvWQErO7r4"
      },
      "source": [
        "# Modeling \n",
        "from tensorflow.keras.callbacks import EarlyStopping\n",
        "from tensorflow.keras.models import Sequential\n",
        "from tensorflow.keras.layers import Embedding, GlobalAveragePooling1D, Dense, Dropout, LSTM, Bidirectional\n",
        "\n",
        "#Dense model architecture\n",
        "model = Sequential()\n",
        "model.add(Embedding(vocab_size, embeding_dim, input_length=max_len))\n",
        "model.add(GlobalAveragePooling1D())\n",
        "model.add(Dense(24, activation='relu'))\n",
        "model.add(Dropout(drop_value))\n",
        "model.add(Dense(1, activation='sigmoid'))"
      ],
      "execution_count": null,
      "outputs": []
    },
    {
      "cell_type": "code",
      "metadata": {
        "id": "gfI7aaWdPfXm"
      },
      "source": [
        "model.summary()"
      ],
      "execution_count": null,
      "outputs": []
    },
    {
      "cell_type": "code",
      "metadata": {
        "id": "7X-Oax9FPhgj"
      },
      "source": [
        "model.compile(loss='binary_crossentropy',optimizer='adam' ,metrics=['accuracy'])"
      ],
      "execution_count": null,
      "outputs": []
    },
    {
      "cell_type": "code",
      "metadata": {
        "id": "WGlw5PEBPkSu"
      },
      "source": [
        "# fitting a dense spam detector model\n",
        "num_epochs = 15\n",
        "early_stop = EarlyStopping(monitor='val_loss', patience=3)\n",
        "history = model.fit(training_padded, train_label, epochs=num_epochs, validation_data=(testing_padded, test_label),callbacks =[early_stop], verbose=2)"
      ],
      "execution_count": null,
      "outputs": []
    },
    {
      "cell_type": "code",
      "metadata": {
        "id": "vTNSBSTNYg9M"
      },
      "source": [
        "# Model performance on test data \n",
        "model.evaluate(testing_padded, test_label)\n"
      ],
      "execution_count": null,
      "outputs": []
    },
    {
      "cell_type": "code",
      "metadata": {
        "id": "T5ZHgf-uikQX"
      },
      "source": [
        "# save model and architecture to single file\n",
        "model.save('model.h5')"
      ],
      "execution_count": null,
      "outputs": []
    },
    {
      "cell_type": "markdown",
      "metadata": {
        "id": "Cm8XAmarbjv_"
      },
      "source": [
        "# New Section"
      ]
    },
    {
      "cell_type": "code",
      "metadata": {
        "id": "wTz5JjJpR3G7"
      },
      "source": [
        "#CREATING WEB APP\n",
        "#install libraries\n",
        "\n",
        "!pip install streamlit\n"
      ],
      "execution_count": null,
      "outputs": []
    },
    {
      "cell_type": "code",
      "metadata": {
        "id": "4LNcl2qaw9hY"
      },
      "source": [
        "%%writefile app.py\n",
        "import streamlit as st\n",
        "import pickle\n",
        "from keras.models import load_model\n",
        "from itertools import chain\n",
        "from tensorflow.keras.preprocessing.text import Tokenizer\n",
        "from tensorflow.keras.preprocessing.sequence import pad_sequences\n",
        "\n",
        "PAGE_CONFIG = {\"page_title\":\"SMS_Classifier.io\",\"layout\":\"centered\"}\n",
        "st.set_page_config(**PAGE_CONFIG)\n",
        "\n",
        "\n",
        "pickle_in = open('tokenizer.pkl','rb')\n",
        "tokenizer = pickle.load(pickle_in)\n",
        "\n",
        "#load model\n",
        "model = load_model('model.h5')\n",
        "\n",
        "def predict_message(pred_text):\n",
        "  temp= []\n",
        "  temp.append(pred_text)\n",
        "  new_seq = tokenizer.texts_to_sequences(temp)\n",
        "  padded = pad_sequences(new_seq, maxlen =60,\n",
        "                      padding = \"post\",\n",
        "                      truncating=\"post\")\n",
        "  pred = model.predict(padded)\n",
        "\n",
        "\n",
        "  pred = list(chain.from_iterable(pred))\n",
        " \n",
        "  return (pred)\n",
        "\n",
        "def main():\n",
        "    st.title(\"Neural Network SMS Text Classifier\")\n",
        "    html_temp = \"\"\"\n",
        "    <div style=\"background-color:mustard;padding:10px\">\n",
        "    <h2 style=\"color:white;text-align:center;\">Neural Network SMS Classifier </h2>\n",
        "    </div>\n",
        "    \"\"\"\n",
        "    st.markdown(html_temp,unsafe_allow_html=True)\n",
        "    msg = st.text_input(\"Message\",\"Type Here\")\n",
        "    result=\"\"\n",
        "    if st.button(\"Predict\"):\n",
        "        result=predict_message(msg)\n",
        "    st.success('The output is {}'.format(result))\n",
        "    st.text(\"The higher the value of the prediction result, the higher the probability of being a scam message.\")\n",
        "\n",
        "\n",
        "if __name__=='__main__':\n",
        "    main()\n"
      ],
      "execution_count": null,
      "outputs": []
    },
    {
      "cell_type": "code",
      "metadata": {
        "id": "LODE8hnBxRyL"
      },
      "source": [
        "#install ngrok\n",
        "!wget https://bin.equinox.io/c/4VmDzA7iaHb/ngrok-stable-linux-amd64.zip"
      ],
      "execution_count": null,
      "outputs": []
    },
    {
      "cell_type": "code",
      "metadata": {
        "id": "M7YBxWHUxWFm"
      },
      "source": [
        "!unzip ngrok-stable-linux-amd64.zip"
      ],
      "execution_count": null,
      "outputs": []
    },
    {
      "cell_type": "code",
      "metadata": {
        "id": "auMox_aDxX6Y"
      },
      "source": [
        "get_ipython().system_raw('./ngrok http 8501 &')"
      ],
      "execution_count": null,
      "outputs": []
    },
    {
      "cell_type": "code",
      "metadata": {
        "id": "9PmQQVYZxYSS"
      },
      "source": [
        "!curl -s http://localhost:4040/api/tunnels | python3 -c \\\n",
        "    'import sys, json; print(\"Execute the next cell and the go to the following URL: \" +json.load(sys.stdin)[\"tunnels\"][0][\"public_url\"])'"
      ],
      "execution_count": null,
      "outputs": []
    },
    {
      "cell_type": "code",
      "metadata": {
        "id": "lZUJnuBRxa2c"
      },
      "source": [
        "!streamlit run app.py"
      ],
      "execution_count": null,
      "outputs": []
    },
    {
      "cell_type": "code",
      "metadata": {
        "id": "tigsKyy1z76E"
      },
      "source": [
        "!ngrok.kill()"
      ],
      "execution_count": null,
      "outputs": []
    }
  ]
}